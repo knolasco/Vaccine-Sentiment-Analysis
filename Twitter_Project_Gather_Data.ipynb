{
  "nbformat": 4,
  "nbformat_minor": 0,
  "metadata": {
    "colab": {
      "name": "Twitter Project: Gather Data",
      "provenance": [],
      "collapsed_sections": [],
      "authorship_tag": "ABX9TyN91JDfxC6SVwLLrWc4GgFB",
      "include_colab_link": true
    },
    "kernelspec": {
      "name": "python3",
      "display_name": "Python 3"
    }
  },
  "cells": [
    {
      "cell_type": "markdown",
      "metadata": {
        "id": "view-in-github",
        "colab_type": "text"
      },
      "source": [
        "<a href=\"https://colab.research.google.com/github/knolasco/Vaccine-Sentiment-Analysis/blob/main/Twitter_Project_Gather_Data.ipynb\" target=\"_parent\"><img src=\"https://colab.research.google.com/assets/colab-badge.svg\" alt=\"Open In Colab\"/></a>"
      ]
    },
    {
      "cell_type": "code",
      "metadata": {
        "colab": {
          "base_uri": "https://localhost:8080/"
        },
        "id": "ZLGD7cX9RMGn",
        "outputId": "d136d17e-95aa-4d12-a35b-27e29192ca11"
      },
      "source": [
        "!pip install nltk"
      ],
      "execution_count": null,
      "outputs": [
        {
          "output_type": "stream",
          "text": [
            "Requirement already satisfied: nltk in /usr/local/lib/python3.6/dist-packages (3.2.5)\n",
            "Requirement already satisfied: six in /usr/local/lib/python3.6/dist-packages (from nltk) (1.15.0)\n"
          ],
          "name": "stdout"
        }
      ]
    },
    {
      "cell_type": "code",
      "metadata": {
        "colab": {
          "resources": {
            "http://localhost:8080/nbextensions/google.colab/files.js": {
              "data": "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",
              "ok": true,
              "headers": [
                [
                  "content-type",
                  "application/javascript"
                ]
              ],
              "status": 200,
              "status_text": ""
            }
          },
          "base_uri": "https://localhost:8080/",
          "height": 106
        },
        "id": "Ec57f8Ex41kO",
        "outputId": "c2a2e41b-c3ac-419e-ac71-d7aa2277ccdd"
      },
      "source": [
        "import nltk\r\n",
        "from nltk.corpus import stopwords\r\n",
        "nltk.download('stopwords')\r\n",
        "import tweepy\r\n",
        "import re # to remove numbers\r\n",
        "import matplotlib.pyplot as plt\r\n",
        "import seaborn as sns\r\n",
        "sns.set_style('dark')\r\n",
        "\r\n",
        "import datetime\r\n",
        "from textblob import TextBlob\r\n",
        "import numpy as np\r\n",
        "import pandas as pd\r\n",
        "from google.colab import files\r\n",
        "upload = files.upload()"
      ],
      "execution_count": null,
      "outputs": [
        {
          "output_type": "stream",
          "text": [
            "[nltk_data] Downloading package stopwords to /root/nltk_data...\n",
            "[nltk_data]   Unzipping corpora/stopwords.zip.\n"
          ],
          "name": "stdout"
        },
        {
          "output_type": "display_data",
          "data": {
            "text/html": [
              "\n",
              "     <input type=\"file\" id=\"files-37deffd6-e067-4dbc-9d9b-1be3bd0995c1\" name=\"files[]\" multiple disabled\n",
              "        style=\"border:none\" />\n",
              "     <output id=\"result-37deffd6-e067-4dbc-9d9b-1be3bd0995c1\">\n",
              "      Upload widget is only available when the cell has been executed in the\n",
              "      current browser session. Please rerun this cell to enable.\n",
              "      </output>\n",
              "      <script src=\"/nbextensions/google.colab/files.js\"></script> "
            ],
            "text/plain": [
              "<IPython.core.display.HTML object>"
            ]
          },
          "metadata": {
            "tags": []
          }
        },
        {
          "output_type": "stream",
          "text": [
            "Saving My_Keys.csv to My_Keys.csv\n"
          ],
          "name": "stdout"
        }
      ]
    },
    {
      "cell_type": "code",
      "metadata": {
        "id": "pJR_GTtx-c8H"
      },
      "source": [
        "my_keys = pd.read_csv('My_Keys.csv')\r\n",
        "consumer_key = my_keys['Key'][0]\r\n",
        "consumer_secret = my_keys['Key'][1]\r\n",
        "access_token_key = my_keys['Key'][2]\r\n",
        "access_token_secret = my_keys['Key'][3]"
      ],
      "execution_count": null,
      "outputs": []
    },
    {
      "cell_type": "code",
      "metadata": {
        "id": "a70PZeEG6W-Q"
      },
      "source": [
        "# establish a connection with API by authenticating myself\r\n",
        "auth = tweepy.OAuthHandler(consumer_key, consumer_secret)\r\n",
        "auth.set_access_token(access_token_key,access_token_secret)\r\n",
        "\r\n",
        "api = tweepy.API(auth,wait_on_rate_limit=True)\r\n"
      ],
      "execution_count": null,
      "outputs": []
    },
    {
      "cell_type": "code",
      "metadata": {
        "id": "7t0-AbQguEL5"
      },
      "source": [
        "# grab 1000 tweets for each day, save the date and clean the tweet\r\n",
        "cleanedTweets = []\r\n",
        "dates = []\r\n",
        "for i in range(9):\r\n",
        "  date_until = datetime.datetime(2020,12,15,0,0,0) + datetime.timedelta(days = i)\r\n",
        "  for tweet in tweepy.Cursor(api.search, q = 'Vaccine', result_type = 'recent', include_entities = True, lang = 'en', until = date_until).items(1000):\r\n",
        "    dates.append(tweet.created_at.date())\r\n",
        "    tweet = tweet.text\r\n",
        "    tweet = re.sub(r'(@[A-Za-z0-9]+)|#|RT[\\s]+|https?:\\/\\/\\S+|:', '', tweet) # remove handles, hashtag symbol, retweet mentions, links\r\n",
        "    cleanedTweets.append(tweet)"
      ],
      "execution_count": null,
      "outputs": []
    },
    {
      "cell_type": "code",
      "metadata": {
        "colab": {
          "base_uri": "https://localhost:8080/",
          "height": 195
        },
        "id": "pL_8wOgmsthz",
        "outputId": "edc25e51-e3c3-4550-8df5-2b5841fdfd21"
      },
      "source": [
        "# add the cleaned tweets into a dataframe\r\n",
        "data = list(zip(cleanedTweets, dates))\r\n",
        "df = pd.DataFrame(data, columns = ['Tweets', 'Dates'])\r\n",
        "df.head()"
      ],
      "execution_count": null,
      "outputs": [
        {
          "output_type": "execute_result",
          "data": {
            "text/html": [
              "<div>\n",
              "<style scoped>\n",
              "    .dataframe tbody tr th:only-of-type {\n",
              "        vertical-align: middle;\n",
              "    }\n",
              "\n",
              "    .dataframe tbody tr th {\n",
              "        vertical-align: top;\n",
              "    }\n",
              "\n",
              "    .dataframe thead th {\n",
              "        text-align: right;\n",
              "    }\n",
              "</style>\n",
              "<table border=\"1\" class=\"dataframe\">\n",
              "  <thead>\n",
              "    <tr style=\"text-align: right;\">\n",
              "      <th></th>\n",
              "      <th>Tweets</th>\n",
              "      <th>Dates</th>\n",
              "    </tr>\n",
              "  </thead>\n",
              "  <tbody>\n",
              "    <tr>\n",
              "      <th>0</th>\n",
              "      <td>[Webinar] Mandatory or Optional? An Employers ...</td>\n",
              "      <td>2020-12-14</td>\n",
              "    </tr>\n",
              "    <tr>\n",
              "      <th>1</th>\n",
              "      <td>Tonight at 700 PM EST, NEJM Editor-in-Chief E...</td>\n",
              "      <td>2020-12-14</td>\n",
              "    </tr>\n",
              "    <tr>\n",
              "      <th>2</th>\n",
              "      <td>_sup @_saint_official Eng Trans,Trans by sis...</td>\n",
              "      <td>2020-12-14</td>\n",
              "    </tr>\n",
              "    <tr>\n",
              "      <th>3</th>\n",
              "      <td>Today, I spoke to Dr. Lorish, Chief Executive...</td>\n",
              "      <td>2020-12-14</td>\n",
              "    </tr>\n",
              "    <tr>\n",
              "      <th>4</th>\n",
              "      <td>The Trump administration turned down more vacc...</td>\n",
              "      <td>2020-12-14</td>\n",
              "    </tr>\n",
              "  </tbody>\n",
              "</table>\n",
              "</div>"
            ],
            "text/plain": [
              "                                              Tweets       Dates\n",
              "0  [Webinar] Mandatory or Optional? An Employers ...  2020-12-14\n",
              "1   Tonight at 700 PM EST, NEJM Editor-in-Chief E...  2020-12-14\n",
              "2    _sup @_saint_official Eng Trans,Trans by sis...  2020-12-14\n",
              "3   Today, I spoke to Dr. Lorish, Chief Executive...  2020-12-14\n",
              "4  The Trump administration turned down more vacc...  2020-12-14"
            ]
          },
          "metadata": {
            "tags": []
          },
          "execution_count": 10
        }
      ]
    },
    {
      "cell_type": "code",
      "metadata": {
        "colab": {
          "base_uri": "https://localhost:8080/"
        },
        "id": "O66tEUno8eOv",
        "outputId": "40fa081e-c2c4-49e7-b511-79cf46d42664"
      },
      "source": [
        "df['Dates'].unique()"
      ],
      "execution_count": null,
      "outputs": [
        {
          "output_type": "execute_result",
          "data": {
            "text/plain": [
              "array([datetime.date(2020, 12, 14), datetime.date(2020, 12, 15),\n",
              "       datetime.date(2020, 12, 16), datetime.date(2020, 12, 17),\n",
              "       datetime.date(2020, 12, 18), datetime.date(2020, 12, 19),\n",
              "       datetime.date(2020, 12, 20), datetime.date(2020, 12, 21),\n",
              "       datetime.date(2020, 12, 22)], dtype=object)"
            ]
          },
          "metadata": {
            "tags": []
          },
          "execution_count": 11
        }
      ]
    },
    {
      "cell_type": "code",
      "metadata": {
        "colab": {
          "base_uri": "https://localhost:8080/",
          "height": 402
        },
        "id": "P0d-eBckDIBd",
        "outputId": "5d9ddef7-e3c3-4044-cab4-175846869490"
      },
      "source": [
        "# remove the stop words and add them to the df\r\n",
        "def remove_stopwords(text):\r\n",
        "  tmp = stopwords.words('english')\r\n",
        "  return ' '.join([word for word in text.lower().split() if word not in tmp])\r\n",
        "\r\n",
        "# add to the dataframe\r\n",
        "df['Tweet without StopWords'] = df['Tweets'].apply(remove_stopwords)\r\n",
        "df"
      ],
      "execution_count": null,
      "outputs": [
        {
          "output_type": "execute_result",
          "data": {
            "text/html": [
              "<div>\n",
              "<style scoped>\n",
              "    .dataframe tbody tr th:only-of-type {\n",
              "        vertical-align: middle;\n",
              "    }\n",
              "\n",
              "    .dataframe tbody tr th {\n",
              "        vertical-align: top;\n",
              "    }\n",
              "\n",
              "    .dataframe thead th {\n",
              "        text-align: right;\n",
              "    }\n",
              "</style>\n",
              "<table border=\"1\" class=\"dataframe\">\n",
              "  <thead>\n",
              "    <tr style=\"text-align: right;\">\n",
              "      <th></th>\n",
              "      <th>Tweets</th>\n",
              "      <th>Dates</th>\n",
              "      <th>Tweet without StopWords</th>\n",
              "    </tr>\n",
              "  </thead>\n",
              "  <tbody>\n",
              "    <tr>\n",
              "      <th>0</th>\n",
              "      <td>[Webinar] Mandatory or Optional? An Employers ...</td>\n",
              "      <td>2020-12-14</td>\n",
              "      <td>[webinar] mandatory optional? employers guide ...</td>\n",
              "    </tr>\n",
              "    <tr>\n",
              "      <th>1</th>\n",
              "      <td>Tonight at 700 PM EST, NEJM Editor-in-Chief E...</td>\n",
              "      <td>2020-12-14</td>\n",
              "      <td>tonight 700 pm est, nejm editor-in-chief eric ...</td>\n",
              "    </tr>\n",
              "    <tr>\n",
              "      <th>2</th>\n",
              "      <td>_sup @_saint_official Eng Trans,Trans by sis...</td>\n",
              "      <td>2020-12-14</td>\n",
              "      <td>_sup @_saint_official eng trans,trans sisi mee...</td>\n",
              "    </tr>\n",
              "    <tr>\n",
              "      <th>3</th>\n",
              "      <td>Today, I spoke to Dr. Lorish, Chief Executive...</td>\n",
              "      <td>2020-12-14</td>\n",
              "      <td>today, spoke dr. lorish, chief executive provi...</td>\n",
              "    </tr>\n",
              "    <tr>\n",
              "      <th>4</th>\n",
              "      <td>The Trump administration turned down more vacc...</td>\n",
              "      <td>2020-12-14</td>\n",
              "      <td>trump administration turned vaccine doses 'as ...</td>\n",
              "    </tr>\n",
              "    <tr>\n",
              "      <th>...</th>\n",
              "      <td>...</td>\n",
              "      <td>...</td>\n",
              "      <td>...</td>\n",
              "    </tr>\n",
              "    <tr>\n",
              "      <th>8691</th>\n",
              "      <td>“The vaccine isn't probably going to make a d...</td>\n",
              "      <td>2020-12-21</td>\n",
              "      <td>“the vaccine probably going make difference cu...</td>\n",
              "    </tr>\n",
              "    <tr>\n",
              "      <th>8692</th>\n",
              "      <td>“I took this very personally. I wanted to fig...</td>\n",
              "      <td>2020-12-21</td>\n",
              "      <td>“i took personally. wanted fight it, beat ... ...</td>\n",
              "    </tr>\n",
              "    <tr>\n",
              "      <th>8693</th>\n",
              "      <td>“The vaccine isn't probably going to make a d...</td>\n",
              "      <td>2020-12-21</td>\n",
              "      <td>“the vaccine probably going make difference cu...</td>\n",
              "    </tr>\n",
              "    <tr>\n",
              "      <th>8694</th>\n",
              "      <td>“I've done vaccine trials for 30 years, and I...</td>\n",
              "      <td>2020-12-21</td>\n",
              "      <td>“i've done vaccine trials 30 years, promise co...</td>\n",
              "    </tr>\n",
              "    <tr>\n",
              "      <th>8695</th>\n",
              "      <td>“I took this very personally. I wanted to fig...</td>\n",
              "      <td>2020-12-21</td>\n",
              "      <td>“i took personally. wanted fight it, beat ... ...</td>\n",
              "    </tr>\n",
              "  </tbody>\n",
              "</table>\n",
              "<p>8696 rows × 3 columns</p>\n",
              "</div>"
            ],
            "text/plain": [
              "                                                 Tweets  ...                            Tweet without StopWords\n",
              "0     [Webinar] Mandatory or Optional? An Employers ...  ...  [webinar] mandatory optional? employers guide ...\n",
              "1      Tonight at 700 PM EST, NEJM Editor-in-Chief E...  ...  tonight 700 pm est, nejm editor-in-chief eric ...\n",
              "2       _sup @_saint_official Eng Trans,Trans by sis...  ...  _sup @_saint_official eng trans,trans sisi mee...\n",
              "3      Today, I spoke to Dr. Lorish, Chief Executive...  ...  today, spoke dr. lorish, chief executive provi...\n",
              "4     The Trump administration turned down more vacc...  ...  trump administration turned vaccine doses 'as ...\n",
              "...                                                 ...  ...                                                ...\n",
              "8691   “The vaccine isn't probably going to make a d...  ...  “the vaccine probably going make difference cu...\n",
              "8692   “I took this very personally. I wanted to fig...  ...  “i took personally. wanted fight it, beat ... ...\n",
              "8693   “The vaccine isn't probably going to make a d...  ...  “the vaccine probably going make difference cu...\n",
              "8694   “I've done vaccine trials for 30 years, and I...  ...  “i've done vaccine trials 30 years, promise co...\n",
              "8695   “I took this very personally. I wanted to fig...  ...  “i took personally. wanted fight it, beat ... ...\n",
              "\n",
              "[8696 rows x 3 columns]"
            ]
          },
          "metadata": {
            "tags": []
          },
          "execution_count": 12
        }
      ]
    },
    {
      "cell_type": "code",
      "metadata": {
        "colab": {
          "base_uri": "https://localhost:8080/",
          "height": 402
        },
        "id": "CKeCOdBk6Tvq",
        "outputId": "a59678b0-cf78-4c49-dcc0-94804b833948"
      },
      "source": [
        "# add subjectivity and polarity\r\n",
        "def get_subjectivity(text):\r\n",
        "  return TextBlob(text).sentiment.subjectivity\r\n",
        "\r\n",
        "def get_polarity(text):\r\n",
        "  return TextBlob(text).sentiment.polarity\r\n",
        "\r\n",
        "# add to the dataframe\r\n",
        "df['Subjectivity'] = df['Tweets'].apply(get_subjectivity)\r\n",
        "df['Polarity'] = df['Tweets'].apply(get_polarity)\r\n",
        "\r\n",
        "df"
      ],
      "execution_count": null,
      "outputs": [
        {
          "output_type": "execute_result",
          "data": {
            "text/html": [
              "<div>\n",
              "<style scoped>\n",
              "    .dataframe tbody tr th:only-of-type {\n",
              "        vertical-align: middle;\n",
              "    }\n",
              "\n",
              "    .dataframe tbody tr th {\n",
              "        vertical-align: top;\n",
              "    }\n",
              "\n",
              "    .dataframe thead th {\n",
              "        text-align: right;\n",
              "    }\n",
              "</style>\n",
              "<table border=\"1\" class=\"dataframe\">\n",
              "  <thead>\n",
              "    <tr style=\"text-align: right;\">\n",
              "      <th></th>\n",
              "      <th>Tweets</th>\n",
              "      <th>Dates</th>\n",
              "      <th>Tweet without StopWords</th>\n",
              "      <th>Subjectivity</th>\n",
              "      <th>Polarity</th>\n",
              "    </tr>\n",
              "  </thead>\n",
              "  <tbody>\n",
              "    <tr>\n",
              "      <th>0</th>\n",
              "      <td>[Webinar] Mandatory or Optional? An Employers ...</td>\n",
              "      <td>2020-12-14</td>\n",
              "      <td>[webinar] mandatory optional? employers guide ...</td>\n",
              "      <td>0.000000</td>\n",
              "      <td>0.000000</td>\n",
              "    </tr>\n",
              "    <tr>\n",
              "      <th>1</th>\n",
              "      <td>Tonight at 700 PM EST, NEJM Editor-in-Chief E...</td>\n",
              "      <td>2020-12-14</td>\n",
              "      <td>tonight 700 pm est, nejm editor-in-chief eric ...</td>\n",
              "      <td>0.000000</td>\n",
              "      <td>0.000000</td>\n",
              "    </tr>\n",
              "    <tr>\n",
              "      <th>2</th>\n",
              "      <td>_sup @_saint_official Eng Trans,Trans by sis...</td>\n",
              "      <td>2020-12-14</td>\n",
              "      <td>_sup @_saint_official eng trans,trans sisi mee...</td>\n",
              "      <td>1.000000</td>\n",
              "      <td>0.500000</td>\n",
              "    </tr>\n",
              "    <tr>\n",
              "      <th>3</th>\n",
              "      <td>Today, I spoke to Dr. Lorish, Chief Executive...</td>\n",
              "      <td>2020-12-14</td>\n",
              "      <td>today, spoke dr. lorish, chief executive provi...</td>\n",
              "      <td>0.000000</td>\n",
              "      <td>0.000000</td>\n",
              "    </tr>\n",
              "    <tr>\n",
              "      <th>4</th>\n",
              "      <td>The Trump administration turned down more vacc...</td>\n",
              "      <td>2020-12-14</td>\n",
              "      <td>trump administration turned vaccine doses 'as ...</td>\n",
              "      <td>0.259722</td>\n",
              "      <td>0.086111</td>\n",
              "    </tr>\n",
              "    <tr>\n",
              "      <th>...</th>\n",
              "      <td>...</td>\n",
              "      <td>...</td>\n",
              "      <td>...</td>\n",
              "      <td>...</td>\n",
              "      <td>...</td>\n",
              "    </tr>\n",
              "    <tr>\n",
              "      <th>8691</th>\n",
              "      <td>“The vaccine isn't probably going to make a d...</td>\n",
              "      <td>2020-12-21</td>\n",
              "      <td>“the vaccine probably going make difference cu...</td>\n",
              "      <td>0.400000</td>\n",
              "      <td>0.000000</td>\n",
              "    </tr>\n",
              "    <tr>\n",
              "      <th>8692</th>\n",
              "      <td>“I took this very personally. I wanted to fig...</td>\n",
              "      <td>2020-12-21</td>\n",
              "      <td>“i took personally. wanted fight it, beat ... ...</td>\n",
              "      <td>0.390000</td>\n",
              "      <td>0.000000</td>\n",
              "    </tr>\n",
              "    <tr>\n",
              "      <th>8693</th>\n",
              "      <td>“The vaccine isn't probably going to make a d...</td>\n",
              "      <td>2020-12-21</td>\n",
              "      <td>“the vaccine probably going make difference cu...</td>\n",
              "      <td>0.400000</td>\n",
              "      <td>0.000000</td>\n",
              "    </tr>\n",
              "    <tr>\n",
              "      <th>8694</th>\n",
              "      <td>“I've done vaccine trials for 30 years, and I...</td>\n",
              "      <td>2020-12-21</td>\n",
              "      <td>“i've done vaccine trials 30 years, promise co...</td>\n",
              "      <td>0.250000</td>\n",
              "      <td>-0.250000</td>\n",
              "    </tr>\n",
              "    <tr>\n",
              "      <th>8695</th>\n",
              "      <td>“I took this very personally. I wanted to fig...</td>\n",
              "      <td>2020-12-21</td>\n",
              "      <td>“i took personally. wanted fight it, beat ... ...</td>\n",
              "      <td>0.390000</td>\n",
              "      <td>0.000000</td>\n",
              "    </tr>\n",
              "  </tbody>\n",
              "</table>\n",
              "<p>8696 rows × 5 columns</p>\n",
              "</div>"
            ],
            "text/plain": [
              "                                                 Tweets  ...  Polarity\n",
              "0     [Webinar] Mandatory or Optional? An Employers ...  ...  0.000000\n",
              "1      Tonight at 700 PM EST, NEJM Editor-in-Chief E...  ...  0.000000\n",
              "2       _sup @_saint_official Eng Trans,Trans by sis...  ...  0.500000\n",
              "3      Today, I spoke to Dr. Lorish, Chief Executive...  ...  0.000000\n",
              "4     The Trump administration turned down more vacc...  ...  0.086111\n",
              "...                                                 ...  ...       ...\n",
              "8691   “The vaccine isn't probably going to make a d...  ...  0.000000\n",
              "8692   “I took this very personally. I wanted to fig...  ...  0.000000\n",
              "8693   “The vaccine isn't probably going to make a d...  ...  0.000000\n",
              "8694   “I've done vaccine trials for 30 years, and I...  ... -0.250000\n",
              "8695   “I took this very personally. I wanted to fig...  ...  0.000000\n",
              "\n",
              "[8696 rows x 5 columns]"
            ]
          },
          "metadata": {
            "tags": []
          },
          "execution_count": 13
        }
      ]
    },
    {
      "cell_type": "code",
      "metadata": {
        "colab": {
          "base_uri": "https://localhost:8080/",
          "height": 402
        },
        "id": "YtfqxZd26_6s",
        "outputId": "733e51f3-c0a0-447d-de3d-2ebcc313c940"
      },
      "source": [
        "# label the polarity\r\n",
        "def label_polarity(score):\r\n",
        "  if score > 0:\r\n",
        "    return 'Positive'\r\n",
        "  elif score == 0:\r\n",
        "    return 'Neutral'\r\n",
        "  else:\r\n",
        "    return 'Negative'\r\n",
        "\r\n",
        "# add to the df\r\n",
        "\r\n",
        "df['Label'] = df['Polarity'].apply(label_polarity)\r\n",
        "df"
      ],
      "execution_count": null,
      "outputs": [
        {
          "output_type": "execute_result",
          "data": {
            "text/html": [
              "<div>\n",
              "<style scoped>\n",
              "    .dataframe tbody tr th:only-of-type {\n",
              "        vertical-align: middle;\n",
              "    }\n",
              "\n",
              "    .dataframe tbody tr th {\n",
              "        vertical-align: top;\n",
              "    }\n",
              "\n",
              "    .dataframe thead th {\n",
              "        text-align: right;\n",
              "    }\n",
              "</style>\n",
              "<table border=\"1\" class=\"dataframe\">\n",
              "  <thead>\n",
              "    <tr style=\"text-align: right;\">\n",
              "      <th></th>\n",
              "      <th>Tweets</th>\n",
              "      <th>Dates</th>\n",
              "      <th>Tweet without StopWords</th>\n",
              "      <th>Subjectivity</th>\n",
              "      <th>Polarity</th>\n",
              "      <th>Label</th>\n",
              "    </tr>\n",
              "  </thead>\n",
              "  <tbody>\n",
              "    <tr>\n",
              "      <th>0</th>\n",
              "      <td>[Webinar] Mandatory or Optional? An Employers ...</td>\n",
              "      <td>2020-12-14</td>\n",
              "      <td>[webinar] mandatory optional? employers guide ...</td>\n",
              "      <td>0.000000</td>\n",
              "      <td>0.000000</td>\n",
              "      <td>Neutral</td>\n",
              "    </tr>\n",
              "    <tr>\n",
              "      <th>1</th>\n",
              "      <td>Tonight at 700 PM EST, NEJM Editor-in-Chief E...</td>\n",
              "      <td>2020-12-14</td>\n",
              "      <td>tonight 700 pm est, nejm editor-in-chief eric ...</td>\n",
              "      <td>0.000000</td>\n",
              "      <td>0.000000</td>\n",
              "      <td>Neutral</td>\n",
              "    </tr>\n",
              "    <tr>\n",
              "      <th>2</th>\n",
              "      <td>_sup @_saint_official Eng Trans,Trans by sis...</td>\n",
              "      <td>2020-12-14</td>\n",
              "      <td>_sup @_saint_official eng trans,trans sisi mee...</td>\n",
              "      <td>1.000000</td>\n",
              "      <td>0.500000</td>\n",
              "      <td>Positive</td>\n",
              "    </tr>\n",
              "    <tr>\n",
              "      <th>3</th>\n",
              "      <td>Today, I spoke to Dr. Lorish, Chief Executive...</td>\n",
              "      <td>2020-12-14</td>\n",
              "      <td>today, spoke dr. lorish, chief executive provi...</td>\n",
              "      <td>0.000000</td>\n",
              "      <td>0.000000</td>\n",
              "      <td>Neutral</td>\n",
              "    </tr>\n",
              "    <tr>\n",
              "      <th>4</th>\n",
              "      <td>The Trump administration turned down more vacc...</td>\n",
              "      <td>2020-12-14</td>\n",
              "      <td>trump administration turned vaccine doses 'as ...</td>\n",
              "      <td>0.259722</td>\n",
              "      <td>0.086111</td>\n",
              "      <td>Positive</td>\n",
              "    </tr>\n",
              "    <tr>\n",
              "      <th>...</th>\n",
              "      <td>...</td>\n",
              "      <td>...</td>\n",
              "      <td>...</td>\n",
              "      <td>...</td>\n",
              "      <td>...</td>\n",
              "      <td>...</td>\n",
              "    </tr>\n",
              "    <tr>\n",
              "      <th>8691</th>\n",
              "      <td>“The vaccine isn't probably going to make a d...</td>\n",
              "      <td>2020-12-21</td>\n",
              "      <td>“the vaccine probably going make difference cu...</td>\n",
              "      <td>0.400000</td>\n",
              "      <td>0.000000</td>\n",
              "      <td>Neutral</td>\n",
              "    </tr>\n",
              "    <tr>\n",
              "      <th>8692</th>\n",
              "      <td>“I took this very personally. I wanted to fig...</td>\n",
              "      <td>2020-12-21</td>\n",
              "      <td>“i took personally. wanted fight it, beat ... ...</td>\n",
              "      <td>0.390000</td>\n",
              "      <td>0.000000</td>\n",
              "      <td>Neutral</td>\n",
              "    </tr>\n",
              "    <tr>\n",
              "      <th>8693</th>\n",
              "      <td>“The vaccine isn't probably going to make a d...</td>\n",
              "      <td>2020-12-21</td>\n",
              "      <td>“the vaccine probably going make difference cu...</td>\n",
              "      <td>0.400000</td>\n",
              "      <td>0.000000</td>\n",
              "      <td>Neutral</td>\n",
              "    </tr>\n",
              "    <tr>\n",
              "      <th>8694</th>\n",
              "      <td>“I've done vaccine trials for 30 years, and I...</td>\n",
              "      <td>2020-12-21</td>\n",
              "      <td>“i've done vaccine trials 30 years, promise co...</td>\n",
              "      <td>0.250000</td>\n",
              "      <td>-0.250000</td>\n",
              "      <td>Negative</td>\n",
              "    </tr>\n",
              "    <tr>\n",
              "      <th>8695</th>\n",
              "      <td>“I took this very personally. I wanted to fig...</td>\n",
              "      <td>2020-12-21</td>\n",
              "      <td>“i took personally. wanted fight it, beat ... ...</td>\n",
              "      <td>0.390000</td>\n",
              "      <td>0.000000</td>\n",
              "      <td>Neutral</td>\n",
              "    </tr>\n",
              "  </tbody>\n",
              "</table>\n",
              "<p>8696 rows × 6 columns</p>\n",
              "</div>"
            ],
            "text/plain": [
              "                                                 Tweets  ...     Label\n",
              "0     [Webinar] Mandatory or Optional? An Employers ...  ...   Neutral\n",
              "1      Tonight at 700 PM EST, NEJM Editor-in-Chief E...  ...   Neutral\n",
              "2       _sup @_saint_official Eng Trans,Trans by sis...  ...  Positive\n",
              "3      Today, I spoke to Dr. Lorish, Chief Executive...  ...   Neutral\n",
              "4     The Trump administration turned down more vacc...  ...  Positive\n",
              "...                                                 ...  ...       ...\n",
              "8691   “The vaccine isn't probably going to make a d...  ...   Neutral\n",
              "8692   “I took this very personally. I wanted to fig...  ...   Neutral\n",
              "8693   “The vaccine isn't probably going to make a d...  ...   Neutral\n",
              "8694   “I've done vaccine trials for 30 years, and I...  ...  Negative\n",
              "8695   “I took this very personally. I wanted to fig...  ...   Neutral\n",
              "\n",
              "[8696 rows x 6 columns]"
            ]
          },
          "metadata": {
            "tags": []
          },
          "execution_count": 14
        }
      ]
    },
    {
      "cell_type": "code",
      "metadata": {
        "colab": {
          "base_uri": "https://localhost:8080/",
          "height": 621
        },
        "id": "bjelB0Yi7h6Z",
        "outputId": "2a5fb3b8-89df-497a-d622-6213d2d4882a"
      },
      "source": [
        "# plot the subjectivity and polarity\r\n",
        "plt.figure(figsize = (10,10))\r\n",
        "sns.scatterplot(x = 'Polarity',y = 'Subjectivity', hue = 'Label', data = df, palette = 'rocket', alpha = 0.5)\r\n",
        "plt.title('Sentiment Analysis')\r\n",
        "plt.xlabel('Polarity')\r\n",
        "plt.ylabel('Subjectivity')\r\n",
        "plt.grid()\r\n",
        "plt.show()"
      ],
      "execution_count": null,
      "outputs": [
        {
          "output_type": "display_data",
          "data": {
            "image/png": "[encoded data removed]",
            "text/plain": [
              "<Figure size 720x720 with 1 Axes>"
            ]
          },
          "metadata": {
            "tags": []
          }
        }
      ]
    },
    {
      "cell_type": "code",
      "metadata": {
        "colab": {
          "base_uri": "https://localhost:8080/",
          "height": 621
        },
        "id": "U9ivBVIO_mjb",
        "outputId": "5ea316eb-0396-4522-e15a-512a93dba58e"
      },
      "source": [
        "# find the most frequently used words from the positive tweets\r\n",
        "positiveTweets = df['Tweet without StopWords'][df['Label'] == 'Positive']\r\n",
        "from collections import Counter\r\n",
        "overallCount = {}\r\n",
        "\r\n",
        "for tweet in positiveTweets:\r\n",
        "  positiveCounts = Counter(tweet.lower().split())\r\n",
        "  for word in positiveCounts:\r\n",
        "    if word not in overallCount:\r\n",
        "      overallCount[word] = 1\r\n",
        "    else:\r\n",
        "      overallCount[word] += 1\r\n",
        "  \r\n",
        "sortedCounts = sorted(overallCount.items(), key = lambda x: x[1], reverse = True)\r\n",
        "\r\n",
        "# save the top 20 words and their frequencies\r\n",
        "text = []\r\n",
        "frequencies = []\r\n",
        "for i in range(20):\r\n",
        "  txt, freq = sortedCounts[i][0], sortedCounts[i][1]\r\n",
        "  text.append(txt)\r\n",
        "  frequencies.append(freq)\r\n",
        "\r\n",
        "# plot using bar\r\n",
        "plt.figure(figsize = (10,10))\r\n",
        "sns.barplot(y = text, x = frequencies, palette = 'rocket')\r\n",
        "plt.title('Top 20 Frequently Used Words in Positive Tweets')\r\n",
        "plt.xlabel('Frequencies')\r\n",
        "plt.ylabel('Words')\r\n",
        "plt.grid()\r\n",
        "plt.show()"
      ],
      "execution_count": null,
      "outputs": [
        {
          "output_type": "display_data",
          "data": {
            "image/png": "[encoded data removed]",
            "text/plain": [
              "<Figure size 720x720 with 1 Axes>"
            ]
          },
          "metadata": {
            "tags": []
          }
        }
      ]
    },
    {
      "cell_type": "code",
      "metadata": {
        "colab": {
          "base_uri": "https://localhost:8080/",
          "height": 621
        },
        "id": "-qoX6K6zH31v",
        "outputId": "3c3e3a5e-b2ff-4c8a-d19a-66bd997b404c"
      },
      "source": [
        "# find the most frequently used words from the negative tweets\r\n",
        "negativeTweets = df['Tweet without StopWords'][df['Label'] == 'Negative']\r\n",
        "from collections import Counter\r\n",
        "overallCount = {}\r\n",
        "\r\n",
        "for tweet in negativeTweets:\r\n",
        "  negativeCounts = Counter(tweet.lower().split())\r\n",
        "  for word in negativeCounts:\r\n",
        "    if word not in overallCount:\r\n",
        "      overallCount[word] = 1\r\n",
        "    else:\r\n",
        "      overallCount[word] += 1\r\n",
        "  \r\n",
        "sortedCounts = sorted(overallCount.items(), key = lambda x: x[1], reverse = True)\r\n",
        "\r\n",
        "# save the top 20 words and their frequencies\r\n",
        "text = []\r\n",
        "frequencies = []\r\n",
        "for i in range(20):\r\n",
        "  txt, freq = sortedCounts[i][0], sortedCounts[i][1]\r\n",
        "  text.append(txt)\r\n",
        "  frequencies.append(freq)\r\n",
        "\r\n",
        "# plot using bar\r\n",
        "plt.figure(figsize = (10,10))\r\n",
        "sns.barplot(y = text, x = frequencies, color = 'red', palette = 'rocket')\r\n",
        "plt.title('Top 20 Frequently Used Words in Negative Tweets')\r\n",
        "plt.xlabel('Frequencies')\r\n",
        "plt.ylabel('Words')\r\n",
        "plt.grid()\r\n",
        "plt.show()"
      ],
      "execution_count": null,
      "outputs": [
        {
          "output_type": "display_data",
          "data": {
            "image/png": "[encoded data removed]",
            "text/plain": [
              "<Figure size 720x720 with 1 Axes>"
            ]
          },
          "metadata": {
            "tags": []
          }
        }
      ]
    },
    {
      "cell_type": "code",
      "metadata": {
        "colab": {
          "base_uri": "https://localhost:8080/",
          "height": 400
        },
        "id": "tXL__IfFTpSf",
        "outputId": "7a782f1c-9aa3-4650-8e0b-dd8267bc1698"
      },
      "source": [
        "plt.figure(figsize=(10,10))\r\n",
        "sns.catplot(x = 'Label', kind = 'count', data = df, palette = 'rocket')\r\n",
        "plt.grid()\r\n",
        "plt.show()"
      ],
      "execution_count": null,
      "outputs": [
        {
          "output_type": "display_data",
          "data": {
            "text/plain": [
              "<Figure size 720x720 with 0 Axes>"
            ]
          },
          "metadata": {
            "tags": []
          }
        },
        {
          "output_type": "display_data",
          "data": {
            "image/png": "[encoded data removed]",
            "text/plain": [
              "<Figure size 360x360 with 1 Axes>"
            ]
          },
          "metadata": {
            "tags": []
          }
        }
      ]
    },
    {
      "cell_type": "code",
      "metadata": {
        "colab": {
          "base_uri": "https://localhost:8080/",
          "height": 402
        },
        "id": "oABHaE54-cTy",
        "outputId": "fb0c0c1c-94d3-4519-caab-00a61e34287f"
      },
      "source": [
        "def remove_commas(text):\r\n",
        "  return text.replace(',','')\r\n",
        "df['Tweets'] = df['Tweets'].apply(remove_commas)\r\n",
        "df['Tweet without StopWords'] = df['Tweet without StopWords'].apply(remove_commas)\r\n",
        "df"
      ],
      "execution_count": null,
      "outputs": [
        {
          "output_type": "execute_result",
          "data": {
            "text/html": [
              "<div>\n",
              "<style scoped>\n",
              "    .dataframe tbody tr th:only-of-type {\n",
              "        vertical-align: middle;\n",
              "    }\n",
              "\n",
              "    .dataframe tbody tr th {\n",
              "        vertical-align: top;\n",
              "    }\n",
              "\n",
              "    .dataframe thead th {\n",
              "        text-align: right;\n",
              "    }\n",
              "</style>\n",
              "<table border=\"1\" class=\"dataframe\">\n",
              "  <thead>\n",
              "    <tr style=\"text-align: right;\">\n",
              "      <th></th>\n",
              "      <th>Tweets</th>\n",
              "      <th>Dates</th>\n",
              "      <th>Tweet without StopWords</th>\n",
              "      <th>Subjectivity</th>\n",
              "      <th>Polarity</th>\n",
              "      <th>Label</th>\n",
              "    </tr>\n",
              "  </thead>\n",
              "  <tbody>\n",
              "    <tr>\n",
              "      <th>0</th>\n",
              "      <td>[Webinar] Mandatory or Optional? An Employers ...</td>\n",
              "      <td>2020-12-14</td>\n",
              "      <td>[webinar] mandatory optional? employers guide ...</td>\n",
              "      <td>0.000000</td>\n",
              "      <td>0.000000</td>\n",
              "      <td>Neutral</td>\n",
              "    </tr>\n",
              "    <tr>\n",
              "      <th>1</th>\n",
              "      <td>Tonight at 700 PM EST NEJM Editor-in-Chief Er...</td>\n",
              "      <td>2020-12-14</td>\n",
              "      <td>tonight 700 pm est nejm editor-in-chief eric r...</td>\n",
              "      <td>0.000000</td>\n",
              "      <td>0.000000</td>\n",
              "      <td>Neutral</td>\n",
              "    </tr>\n",
              "    <tr>\n",
              "      <th>2</th>\n",
              "      <td>_sup @_saint_official Eng TransTrans by sisi...</td>\n",
              "      <td>2020-12-14</td>\n",
              "      <td>_sup @_saint_official eng transtrans sisi meet...</td>\n",
              "      <td>1.000000</td>\n",
              "      <td>0.500000</td>\n",
              "      <td>Positive</td>\n",
              "    </tr>\n",
              "    <tr>\n",
              "      <th>3</th>\n",
              "      <td>Today I spoke to Dr. Lorish Chief Executive f...</td>\n",
              "      <td>2020-12-14</td>\n",
              "      <td>today spoke dr. lorish chief executive provide...</td>\n",
              "      <td>0.000000</td>\n",
              "      <td>0.000000</td>\n",
              "      <td>Neutral</td>\n",
              "    </tr>\n",
              "    <tr>\n",
              "      <th>4</th>\n",
              "      <td>The Trump administration turned down more vacc...</td>\n",
              "      <td>2020-12-14</td>\n",
              "      <td>trump administration turned vaccine doses 'as ...</td>\n",
              "      <td>0.259722</td>\n",
              "      <td>0.086111</td>\n",
              "      <td>Positive</td>\n",
              "    </tr>\n",
              "    <tr>\n",
              "      <th>...</th>\n",
              "      <td>...</td>\n",
              "      <td>...</td>\n",
              "      <td>...</td>\n",
              "      <td>...</td>\n",
              "      <td>...</td>\n",
              "      <td>...</td>\n",
              "    </tr>\n",
              "    <tr>\n",
              "      <th>8691</th>\n",
              "      <td>“The vaccine isn't probably going to make a d...</td>\n",
              "      <td>2020-12-21</td>\n",
              "      <td>“the vaccine probably going make difference cu...</td>\n",
              "      <td>0.400000</td>\n",
              "      <td>0.000000</td>\n",
              "      <td>Neutral</td>\n",
              "    </tr>\n",
              "    <tr>\n",
              "      <th>8692</th>\n",
              "      <td>“I took this very personally. I wanted to fig...</td>\n",
              "      <td>2020-12-21</td>\n",
              "      <td>“i took personally. wanted fight it beat ... n...</td>\n",
              "      <td>0.390000</td>\n",
              "      <td>0.000000</td>\n",
              "      <td>Neutral</td>\n",
              "    </tr>\n",
              "    <tr>\n",
              "      <th>8693</th>\n",
              "      <td>“The vaccine isn't probably going to make a d...</td>\n",
              "      <td>2020-12-21</td>\n",
              "      <td>“the vaccine probably going make difference cu...</td>\n",
              "      <td>0.400000</td>\n",
              "      <td>0.000000</td>\n",
              "      <td>Neutral</td>\n",
              "    </tr>\n",
              "    <tr>\n",
              "      <th>8694</th>\n",
              "      <td>“I've done vaccine trials for 30 years and I ...</td>\n",
              "      <td>2020-12-21</td>\n",
              "      <td>“i've done vaccine trials 30 years promise cor...</td>\n",
              "      <td>0.250000</td>\n",
              "      <td>-0.250000</td>\n",
              "      <td>Negative</td>\n",
              "    </tr>\n",
              "    <tr>\n",
              "      <th>8695</th>\n",
              "      <td>“I took this very personally. I wanted to fig...</td>\n",
              "      <td>2020-12-21</td>\n",
              "      <td>“i took personally. wanted fight it beat ... n...</td>\n",
              "      <td>0.390000</td>\n",
              "      <td>0.000000</td>\n",
              "      <td>Neutral</td>\n",
              "    </tr>\n",
              "  </tbody>\n",
              "</table>\n",
              "<p>8696 rows × 6 columns</p>\n",
              "</div>"
            ],
            "text/plain": [
              "                                                 Tweets  ...     Label\n",
              "0     [Webinar] Mandatory or Optional? An Employers ...  ...   Neutral\n",
              "1      Tonight at 700 PM EST NEJM Editor-in-Chief Er...  ...   Neutral\n",
              "2       _sup @_saint_official Eng TransTrans by sisi...  ...  Positive\n",
              "3      Today I spoke to Dr. Lorish Chief Executive f...  ...   Neutral\n",
              "4     The Trump administration turned down more vacc...  ...  Positive\n",
              "...                                                 ...  ...       ...\n",
              "8691   “The vaccine isn't probably going to make a d...  ...   Neutral\n",
              "8692   “I took this very personally. I wanted to fig...  ...   Neutral\n",
              "8693   “The vaccine isn't probably going to make a d...  ...   Neutral\n",
              "8694   “I've done vaccine trials for 30 years and I ...  ...  Negative\n",
              "8695   “I took this very personally. I wanted to fig...  ...   Neutral\n",
              "\n",
              "[8696 rows x 6 columns]"
            ]
          },
          "metadata": {
            "tags": []
          },
          "execution_count": 24
        }
      ]
    },
    {
      "cell_type": "code",
      "metadata": {
        "id": "3kXxpx53_emw"
      },
      "source": [
        "df.to_csv('Twitter_Vaccine.csv')"
      ],
      "execution_count": null,
      "outputs": []
    },
    {
      "cell_type": "code",
      "metadata": {
        "colab": {
          "base_uri": "https://localhost:8080/",
          "height": 17
        },
        "id": "K_63iLr0AgDe",
        "outputId": "813bfc90-7a1c-4601-8aed-304938cc58e1"
      },
      "source": [
        "files.download('Twitter_Vaccine.csv')"
      ],
      "execution_count": null,
      "outputs": [
        {
          "output_type": "display_data",
          "data": {
            "application/javascript": [
              "\n",
              "    async function download(id, filename, size) {\n",
              "      if (!google.colab.kernel.accessAllowed) {\n",
              "        return;\n",
              "      }\n",
              "      const div = document.createElement('div');\n",
              "      const label = document.createElement('label');\n",
              "      label.textContent = `Downloading \"${filename}\": `;\n",
              "      div.appendChild(label);\n",
              "      const progress = document.createElement('progress');\n",
              "      progress.max = size;\n",
              "      div.appendChild(progress);\n",
              "      document.body.appendChild(div);\n",
              "\n",
              "      const buffers = [];\n",
              "      let downloaded = 0;\n",
              "\n",
              "      const channel = await google.colab.kernel.comms.open(id);\n",
              "      // Send a message to notify the kernel that we're ready.\n",
              "      channel.send({})\n",
              "\n",
              "      for await (const message of channel.messages) {\n",
              "        // Send a message to notify the kernel that we're ready.\n",
              "        channel.send({})\n",
              "        if (message.buffers) {\n",
              "          for (const buffer of message.buffers) {\n",
              "            buffers.push(buffer);\n",
              "            downloaded += buffer.byteLength;\n",
              "            progress.value = downloaded;\n",
              "          }\n",
              "        }\n",
              "      }\n",
              "      const blob = new Blob(buffers, {type: 'application/binary'});\n",
              "      const a = document.createElement('a');\n",
              "      a.href = window.URL.createObjectURL(blob);\n",
              "      a.download = filename;\n",
              "      div.appendChild(a);\n",
              "      a.click();\n",
              "      div.remove();\n",
              "    }\n",
              "  "
            ],
            "text/plain": [
              "<IPython.core.display.Javascript object>"
            ]
          },
          "metadata": {
            "tags": []
          }
        },
        {
          "output_type": "display_data",
          "data": {
            "application/javascript": [
              "download(\"download_8213134e-4580-4230-b736-d3ee2a9daa7d\", \"Twitter_Vaccine.csv\", 1920774)"
            ],
            "text/plain": [
              "<IPython.core.display.Javascript object>"
            ]
          },
          "metadata": {
            "tags": []
          }
        }
      ]
    }
  ]
}